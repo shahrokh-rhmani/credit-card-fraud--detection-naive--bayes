{
 "cells": [
  {
   "cell_type": "code",
   "execution_count": 1,
   "id": "9e0afb0b",
   "metadata": {},
   "outputs": [
    {
     "name": "stdout",
     "output_type": "stream",
     "text": [
      "======================================================================\n",
      "Credit Card Fraud Detection System with Naive Bayes Algorithm\n",
      "======================================================================\n"
     ]
    }
   ],
   "source": [
    "# Cell 1: Import Libraries\n",
    "import pandas as pd\n",
    "import numpy as np\n",
    "import matplotlib.pyplot as plt\n",
    "import seaborn as sns\n",
    "from sklearn.model_selection import train_test_split\n",
    "from sklearn.preprocessing import StandardScaler, RobustScaler\n",
    "from sklearn.naive_bayes import GaussianNB\n",
    "from sklearn.metrics import accuracy_score, recall_score, precision_score, confusion_matrix, classification_report\n",
    "from imblearn.under_sampling import RandomUnderSampler\n",
    "from collections import Counter\n",
    "import warnings\n",
    "import os\n",
    "warnings.filterwarnings('ignore')\n",
    "\n",
    "# Display settings\n",
    "plt.rcParams['font.family'] = 'DejaVu Sans'\n",
    "plt.rcParams['axes.unicode_minus'] = False\n",
    "\n",
    "print(\"=\" * 70)\n",
    "print(\"Credit Card Fraud Detection System with Naive Bayes Algorithm\")\n",
    "print(\"=\" * 70)"
   ]
  },
  {
   "cell_type": "code",
   "execution_count": 2,
   "id": "7dc637f2",
   "metadata": {},
   "outputs": [
    {
     "name": "stdout",
     "output_type": "stream",
     "text": [
      "\n",
      "1. Loading Dataset from Online Sources...\n",
      "✓ Dataset loaded from alternative GitHub URL\n"
     ]
    }
   ],
   "source": [
    "# Cell 2: Load Dataset from Online Sources\n",
    "print(\"\\n1. Loading Dataset from Online Sources...\")\n",
    "\n",
    "try:\n",
    "    # Direct download link from Kaggle\n",
    "    url = \"https://www.kaggle.com/datasets/mlg-ulb/creditcardfraud/download?datasetVersionNumber=3\"\n",
    "    \n",
    "    # Alternative reliable URL\n",
    "    alt_url = \"https://raw.githubusercontent.com/nsethi31/Kaggle-Data-Credit-Card-Fraud-Detection/master/creditcard.csv\"\n",
    "    \n",
    "    try:\n",
    "        df = pd.read_csv(url)\n",
    "        print(\"✓ Dataset successfully loaded from Kaggle URL\")\n",
    "    except:\n",
    "        df = pd.read_csv(alt_url)\n",
    "        print(\"✓ Dataset loaded from alternative GitHub URL\")\n",
    "        \n",
    "except Exception as e:\n",
    "    print(f\"✗ Error loading from online sources: {e}\")\n",
    "    print(\"Creating synthetic dataset for demonstration...\")\n",
    "    np.random.seed(42)\n",
    "    n_samples = 10000\n",
    "    n_fraud = int(n_samples * 0.0017)  # Real fraud ratio\n",
    "    \n",
    "    # Create synthetic data similar to original dataset\n",
    "    data = {}\n",
    "    for i in range(28):\n",
    "        data[f'V{i+1}'] = np.random.normal(0, 1, n_samples)\n",
    "    \n",
    "    data['Time'] = np.random.uniform(0, 172000, n_samples)\n",
    "    data['Amount'] = np.random.exponential(100, n_samples)\n",
    "    \n",
    "    # Generate labels\n",
    "    labels = np.zeros(n_samples)\n",
    "    fraud_indices = np.random.choice(n_samples, n_fraud, replace=False)\n",
    "    labels[fraud_indices] = 1\n",
    "    data['Class'] = labels\n",
    "    \n",
    "    df = pd.DataFrame(data)\n",
    "    print(\"✓ Synthetic dataset created\")"
   ]
  },
  {
   "cell_type": "code",
   "execution_count": 3,
   "id": "fdb01b3d",
   "metadata": {},
   "outputs": [
    {
     "name": "stdout",
     "output_type": "stream",
     "text": [
      "\n",
      "2. Comprehensive Dataset Report:\n",
      "--------------------------------------------------\n",
      "Dataset dimensions: (284807, 31)\n",
      "Number of samples: 284,807\n",
      "Number of features: 31\n",
      "Number of normal transactions: 284,315\n",
      "Number of fraudulent transactions: 492\n",
      "\n",
      "Fraud ratio in dataset: 0.1727%\n",
      "\n",
      "Dataset information:\n",
      "<class 'pandas.core.frame.DataFrame'>\n",
      "RangeIndex: 284807 entries, 0 to 284806\n",
      "Data columns (total 31 columns):\n",
      " #   Column  Non-Null Count   Dtype  \n",
      "---  ------  --------------   -----  \n",
      " 0   Time    284807 non-null  float64\n",
      " 1   V1      284807 non-null  float64\n",
      " 2   V2      284807 non-null  float64\n",
      " 3   V3      284807 non-null  float64\n",
      " 4   V4      284807 non-null  float64\n",
      " 5   V5      284807 non-null  float64\n",
      " 6   V6      284807 non-null  float64\n",
      " 7   V7      284807 non-null  float64\n",
      " 8   V8      284807 non-null  float64\n",
      " 9   V9      284807 non-null  float64\n",
      " 10  V10     284807 non-null  float64\n",
      " 11  V11     284807 non-null  float64\n",
      " 12  V12     284807 non-null  float64\n",
      " 13  V13     284807 non-null  float64\n",
      " 14  V14     284807 non-null  float64\n",
      " 15  V15     284807 non-null  float64\n",
      " 16  V16     284807 non-null  float64\n",
      " 17  V17     284807 non-null  float64\n",
      " 18  V18     284807 non-null  float64\n",
      " 19  V19     284807 non-null  float64\n",
      " 20  V20     284807 non-null  float64\n",
      " 21  V21     284807 non-null  float64\n",
      " 22  V22     284807 non-null  float64\n",
      " 23  V23     284807 non-null  float64\n",
      " 24  V24     284807 non-null  float64\n",
      " 25  V25     284807 non-null  float64\n",
      " 26  V26     284807 non-null  float64\n",
      " 27  V27     284807 non-null  float64\n",
      " 28  V28     284807 non-null  float64\n",
      " 29  Amount  284807 non-null  float64\n",
      " 30  Class   284807 non-null  int64  \n",
      "dtypes: float64(30), int64(1)\n",
      "memory usage: 67.4 MB\n",
      "None\n",
      "\n",
      "Descriptive statistics of numerical features:\n",
      "                Time            V1            V2            V3            V4  \\\n",
      "count  284807.000000  2.848070e+05  2.848070e+05  2.848070e+05  2.848070e+05   \n",
      "mean    94813.859575  1.759088e-12 -8.251210e-13 -9.655224e-13  8.321417e-13   \n",
      "std     47488.145955  1.958696e+00  1.651309e+00  1.516255e+00  1.415869e+00   \n",
      "min         0.000000 -5.640751e+01 -7.271573e+01 -4.832559e+01 -5.683171e+00   \n",
      "25%     54201.500000 -9.203734e-01 -5.985499e-01 -8.903648e-01 -8.486401e-01   \n",
      "50%     84692.000000  1.810880e-02  6.548556e-02  1.798463e-01 -1.984653e-02   \n",
      "75%    139320.500000  1.315642e+00  8.037239e-01  1.027196e+00  7.433413e-01   \n",
      "max    172792.000000  2.454930e+00  2.205773e+01  9.382558e+00  1.687534e+01   \n",
      "\n",
      "                 V5            V6            V7            V8            V9  \\\n",
      "count  2.848070e+05  2.848070e+05  2.848070e+05  2.848070e+05  2.848070e+05   \n",
      "mean   1.650335e-13  4.248462e-13 -3.054652e-13  8.777941e-14 -1.179734e-12   \n",
      "std    1.380247e+00  1.332271e+00  1.237094e+00  1.194353e+00  1.098632e+00   \n",
      "min   -1.137433e+02 -2.616051e+01 -4.355724e+01 -7.321672e+01 -1.343407e+01   \n",
      "25%   -6.915971e-01 -7.682956e-01 -5.540759e-01 -2.086297e-01 -6.430976e-01   \n",
      "50%   -5.433583e-02 -2.741871e-01  4.010308e-02  2.235804e-02 -5.142873e-02   \n",
      "75%    6.119264e-01  3.985649e-01  5.704361e-01  3.273459e-01  5.971390e-01   \n",
      "max    3.480167e+01  7.330163e+01  1.205895e+02  2.000721e+01  1.559499e+01   \n",
      "\n",
      "       ...           V21           V22           V23           V24  \\\n",
      "count  ...  2.848070e+05  2.848070e+05  2.848070e+05  2.848070e+05   \n",
      "mean   ... -3.405795e-13 -5.723161e-13 -9.725925e-13  1.464150e-12   \n",
      "std    ...  7.345240e-01  7.257016e-01  6.244603e-01  6.056471e-01   \n",
      "min    ... -3.483038e+01 -1.093314e+01 -4.480774e+01 -2.836627e+00   \n",
      "25%    ... -2.283949e-01 -5.423504e-01 -1.618463e-01 -3.545861e-01   \n",
      "50%    ... -2.945017e-02  6.781943e-03 -1.119293e-02  4.097606e-02   \n",
      "75%    ...  1.863772e-01  5.285536e-01  1.476421e-01  4.395266e-01   \n",
      "max    ...  2.720284e+01  1.050309e+01  2.252841e+01  4.584549e+00   \n",
      "\n",
      "                V25           V26           V27           V28         Amount  \\\n",
      "count  2.848070e+05  2.848070e+05  2.848070e+05  2.848070e+05  284807.000000   \n",
      "mean  -6.987098e-13 -5.617860e-13  3.332081e-12 -3.518874e-12      88.349619   \n",
      "std    5.212781e-01  4.822270e-01  4.036325e-01  3.300833e-01     250.120109   \n",
      "min   -1.029540e+01 -2.604551e+00 -2.256568e+01 -1.543008e+01       0.000000   \n",
      "25%   -3.171451e-01 -3.269839e-01 -7.083953e-02 -5.295979e-02       5.600000   \n",
      "50%    1.659350e-02 -5.213911e-02  1.342146e-03  1.124383e-02      22.000000   \n",
      "75%    3.507156e-01  2.409522e-01  9.104512e-02  7.827995e-02      77.165000   \n",
      "max    7.519589e+00  3.517346e+00  3.161220e+01  3.384781e+01   25691.160000   \n",
      "\n",
      "               Class  \n",
      "count  284807.000000  \n",
      "mean        0.001727  \n",
      "std         0.041527  \n",
      "min         0.000000  \n",
      "25%         0.000000  \n",
      "50%         0.000000  \n",
      "75%         0.000000  \n",
      "max         1.000000  \n",
      "\n",
      "[8 rows x 31 columns]\n",
      "\n",
      "Checking for missing values:\n",
      "Series([], dtype: int64)\n",
      "✓ No missing values found\n"
     ]
    }
   ],
   "source": [
    "# Cell 3: Comprehensive Dataset Report\n",
    "print(\"\\n2. Comprehensive Dataset Report:\")\n",
    "print(\"-\" * 50)\n",
    "print(f\"Dataset dimensions: {df.shape}\")\n",
    "print(f\"Number of samples: {df.shape[0]:,}\")\n",
    "print(f\"Number of features: {df.shape[1]}\")\n",
    "print(f\"Number of normal transactions: {len(df[df['Class'] == 0]):,}\")\n",
    "print(f\"Number of fraudulent transactions: {len(df[df['Class'] == 1]):,}\")\n",
    "\n",
    "# Class distribution analysis\n",
    "class_distribution = df['Class'].value_counts()\n",
    "fraud_ratio = class_distribution[1] / len(df) * 100\n",
    "print(f\"\\nFraud ratio in dataset: {fraud_ratio:.4f}%\")\n",
    "\n",
    "print(\"\\nDataset information:\")\n",
    "print(df.info())\n",
    "print(\"\\nDescriptive statistics of numerical features:\")\n",
    "print(df.describe())\n",
    "\n",
    "print(\"\\nChecking for missing values:\")\n",
    "missing_values = df.isnull().sum()\n",
    "print(missing_values[missing_values > 0])\n",
    "if missing_values.sum() == 0:\n",
    "    print(\"✓ No missing values found\")"
   ]
  },
  {
   "cell_type": "code",
   "execution_count": 4,
   "id": "ddc5fbba",
   "metadata": {},
   "outputs": [
    {
     "name": "stdout",
     "output_type": "stream",
     "text": [
      "\n",
      "3. Exploratory Data Analysis...\n"
     ]
    },
    {
     "data": {
      "image/png": "[encoded data removed]",
      "text/plain": [
       "<Figure size 800x600 with 1 Axes>"
      ]
     },
     "metadata": {},
     "output_type": "display_data"
    }
   ],
   "source": [
    "# Cell 4: Exploratory Data Analysis (EDA) - ONLY CLASS DISTRIBUTION CHART\n",
    "print(\"\\n3. Exploratory Data Analysis...\")\n",
    "plt.figure(figsize=(8, 6))\n",
    "\n",
    "# Chart 1: Class distribution - ONLY THIS CHART\n",
    "class_counts = df['Class'].value_counts()\n",
    "plt.pie(class_counts.values, labels=['Normal Transaction', 'Fraudulent Transaction'], \n",
    "        autopct='%1.3f%%', colors=['lightgreen', 'red'], startangle=90)\n",
    "plt.title('Class Distribution in Dataset\\n(Highly Imbalanced)')\n",
    "plt.show()"
   ]
  },
  {
   "cell_type": "code",
   "execution_count": 5,
   "id": "2d1ec431",
   "metadata": {},
   "outputs": [
    {
     "name": "stdout",
     "output_type": "stream",
     "text": [
      "\n",
      "4. Data Preprocessing...\n",
      "--------------------------------------------------\n",
      "Number of duplicate samples: 1081\n",
      "✓ Duplicate samples removed\n",
      "✓ Time and Amount features standardized\n",
      "X dimensions after preprocessing: (283726, 30)\n",
      "y dimensions after preprocessing: (283726,)\n"
     ]
    }
   ],
   "source": [
    "# Cell 5: Data Preprocessing\n",
    "print(\"\\n4. Data Preprocessing...\")\n",
    "print(\"-\" * 50)\n",
    "\n",
    "# Check and remove duplicate values\n",
    "duplicates = df.duplicated().sum()\n",
    "print(f\"Number of duplicate samples: {duplicates}\")\n",
    "if duplicates > 0:\n",
    "    df = df.drop_duplicates()\n",
    "    print(f\"✓ Duplicate samples removed\")\n",
    "\n",
    "# Standardize Time and Amount features\n",
    "df_processed = df.copy()\n",
    "scaler = RobustScaler()\n",
    "df_processed[['Time', 'Amount']] = scaler.fit_transform(df_processed[['Time', 'Amount']])\n",
    "\n",
    "print(\"✓ Time and Amount features standardized\")\n",
    "\n",
    "# Separate features and labels\n",
    "X = df_processed.drop('Class', axis=1)\n",
    "y = df_processed['Class']\n",
    "\n",
    "print(f\"X dimensions after preprocessing: {X.shape}\")\n",
    "print(f\"y dimensions after preprocessing: {y.shape}\")"
   ]
  },
  {
   "cell_type": "code",
   "execution_count": 6,
   "id": "73f220ab",
   "metadata": {},
   "outputs": [
    {
     "name": "stdout",
     "output_type": "stream",
     "text": [
      "\n",
      "5. Handling Data Imbalance...\n",
      "Class distribution before sampling: Counter({0: 283253, 1: 473})\n",
      "Class distribution after sampling: Counter({0: 946, 1: 473})\n"
     ]
    }
   ],
   "source": [
    "# Cell 6: Handling Data Imbalance with Under-Sampling\n",
    "print(\"\\n5. Handling Data Imbalance...\")\n",
    "\n",
    "print(f\"Class distribution before sampling: {Counter(y)}\")\n",
    "\n",
    "# Use Under-Sampling to create balanced data\n",
    "rus = RandomUnderSampler(random_state=42, sampling_strategy=0.5)\n",
    "X_resampled, y_resampled = rus.fit_resample(X, y)\n",
    "\n",
    "print(f\"Class distribution after sampling: {Counter(y_resampled)}\")"
   ]
  },
  {
   "cell_type": "code",
   "execution_count": 7,
   "id": "d2ba4121",
   "metadata": {},
   "outputs": [
    {
     "name": "stdout",
     "output_type": "stream",
     "text": [
      "\n",
      "6. Splitting Data...\n",
      "Training data dimensions: (993, 30)\n",
      "Testing data dimensions: (426, 30)\n",
      "Class distribution in training data: Counter({0: 662, 1: 331})\n",
      "Class distribution in testing data: Counter({0: 284, 1: 142})\n"
     ]
    }
   ],
   "source": [
    "# Cell 7: Split Data into Train and Test Sets\n",
    "print(\"\\n6. Splitting Data...\")\n",
    "X_train, X_test, y_train, y_test = train_test_split(\n",
    "    X_resampled, y_resampled, test_size=0.3, random_state=42, stratify=y_resampled\n",
    ")\n",
    "\n",
    "print(f\"Training data dimensions: {X_train.shape}\")\n",
    "print(f\"Testing data dimensions: {X_test.shape}\")\n",
    "print(f\"Class distribution in training data: {Counter(y_train)}\")\n",
    "print(f\"Class distribution in testing data: {Counter(y_test)}\")"
   ]
  },
  {
   "cell_type": "code",
   "execution_count": 8,
   "id": "cc1b5bb4",
   "metadata": {},
   "outputs": [
    {
     "name": "stdout",
     "output_type": "stream",
     "text": [
      "\n",
      "7. Standardizing Data...\n",
      "✓ Data standardized\n"
     ]
    }
   ],
   "source": [
    "# Cell 8: Data Standardization\n",
    "print(\"\\n7. Standardizing Data...\")\n",
    "scaler_final = StandardScaler()\n",
    "X_train_scaled = scaler_final.fit_transform(X_train)\n",
    "X_test_scaled = scaler_final.transform(X_test)\n",
    "\n",
    "print(\"✓ Data standardized\")"
   ]
  },
  {
   "cell_type": "code",
   "execution_count": 9,
   "id": "54d3c7cf",
   "metadata": {},
   "outputs": [
    {
     "name": "stdout",
     "output_type": "stream",
     "text": [
      "\n",
      "8. Training Naive Bayes Model...\n",
      "✓ Model trained successfully\n"
     ]
    }
   ],
   "source": [
    "# Cell 9: Train Naive Bayes Model\n",
    "print(\"\\n8. Training Naive Bayes Model...\")\n",
    "model = GaussianNB()\n",
    "model.fit(X_train_scaled, y_train)\n",
    "print(\"✓ Model trained successfully\")"
   ]
  },
  {
   "cell_type": "code",
   "execution_count": 10,
   "id": "9c9da246",
   "metadata": {},
   "outputs": [
    {
     "name": "stdout",
     "output_type": "stream",
     "text": [
      "\n",
      "9. Model Evaluation...\n",
      "Accuracy: 0.9249\n",
      "Recall: 0.8169\n",
      "Precision: 0.9508\n",
      "F1-Score: 0.8788\n"
     ]
    }
   ],
   "source": [
    "# Cell 10: Model Prediction and Evaluation\n",
    "print(\"\\n9. Model Evaluation...\")\n",
    "y_pred = model.predict(X_test_scaled)\n",
    "y_pred_proba = model.predict_proba(X_test_scaled)\n",
    "\n",
    "# Calculate evaluation metrics\n",
    "accuracy = accuracy_score(y_test, y_pred)\n",
    "recall = recall_score(y_test, y_pred)\n",
    "precision = precision_score(y_test, y_pred)\n",
    "\n",
    "print(f\"Accuracy: {accuracy:.4f}\")\n",
    "print(f\"Recall: {recall:.4f}\")\n",
    "print(f\"Precision: {precision:.4f}\")\n",
    "\n",
    "# Calculate F1-Score\n",
    "f1 = 2 * (precision * recall) / (precision + recall)\n",
    "print(f\"F1-Score: {f1:.4f}\")"
   ]
  },
  {
   "cell_type": "code",
   "execution_count": 11,
   "id": "7cb6e58d",
   "metadata": {},
   "outputs": [
    {
     "name": "stdout",
     "output_type": "stream",
     "text": [
      "\n",
      "10. Confusion Matrix:\n",
      "Confusion Matrix:\n",
      "[[278   6]\n",
      " [ 26 116]]\n"
     ]
    }
   ],
   "source": [
    "# Cell 11: Confusion Matrix\n",
    "print(\"\\n10. Confusion Matrix:\")\n",
    "cm = confusion_matrix(y_test, y_pred)\n",
    "print(\"Confusion Matrix:\")\n",
    "print(cm)"
   ]
  },
  {
   "cell_type": "code",
   "execution_count": 12,
   "id": "902b601a",
   "metadata": {},
   "outputs": [
    {
     "name": "stdout",
     "output_type": "stream",
     "text": [
      "\n",
      "11. Complete Classification Report:\n",
      "--------------------------------------------------\n",
      "                        precision    recall  f1-score   support\n",
      "\n",
      "    Normal Transaction       0.91      0.98      0.95       284\n",
      "Fraudulent Transaction       0.95      0.82      0.88       142\n",
      "\n",
      "              accuracy                           0.92       426\n",
      "             macro avg       0.93      0.90      0.91       426\n",
      "          weighted avg       0.93      0.92      0.92       426\n",
      "\n"
     ]
    }
   ],
   "source": [
    "# Cell 12: Complete Classification Report\n",
    "print(\"\\n11. Complete Classification Report:\")\n",
    "print(\"-\" * 50)\n",
    "print(classification_report(y_test, y_pred, \n",
    "                          target_names=['Normal Transaction', 'Fraudulent Transaction']))"
   ]
  },
  {
   "cell_type": "code",
   "execution_count": 13,
   "id": "20e7f97b",
   "metadata": {},
   "outputs": [
    {
     "name": "stdout",
     "output_type": "stream",
     "text": [
      "\n",
      "12. Evaluation on Original Data (Real Test)...\n",
      "Recall on original data: 0.8310\n",
      "Precision on original data: 0.0506\n",
      "Confusion matrix on original data:\n",
      "[[82760  2216]\n",
      " [   24   118]]\n"
     ]
    }
   ],
   "source": [
    "# Cell 13: Model Performance Analysis on Original Data\n",
    "print(\"\\n12. Evaluation on Original Data (Real Test)...\")\n",
    "# Use original data for final test\n",
    "X_original = df_processed.drop('Class', axis=1)\n",
    "y_original = df_processed['Class']\n",
    "\n",
    "# Split original data\n",
    "X_train_orig, X_test_orig, y_train_orig, y_test_orig = train_test_split(\n",
    "    X_original, y_original, test_size=0.3, random_state=42, stratify=y_original\n",
    ")\n",
    "\n",
    "# Standardize and predict\n",
    "X_test_orig_scaled = scaler_final.transform(X_test_orig)\n",
    "y_pred_orig = model.predict(X_test_orig_scaled)\n",
    "\n",
    "# Calculate metrics for original data\n",
    "cm_orig = confusion_matrix(y_test_orig, y_pred_orig)\n",
    "recall_orig = recall_score(y_test_orig, y_pred_orig)\n",
    "precision_orig = precision_score(y_test_orig, y_pred_orig)\n",
    "\n",
    "print(f\"Recall on original data: {recall_orig:.4f}\")\n",
    "print(f\"Precision on original data: {precision_orig:.4f}\")\n",
    "print(\"Confusion matrix on original data:\")\n",
    "print(cm_orig)"
   ]
  },
  {
   "cell_type": "code",
   "execution_count": 14,
   "id": "40a5a7b7",
   "metadata": {},
   "outputs": [
    {
     "name": "stdout",
     "output_type": "stream",
     "text": [
      "\n",
      "======================================================================\n",
      "Final Conclusion and Recommendations\n",
      "======================================================================\n",
      "\n",
      " Naive Bayes Model Performance:\n",
      "• Overall Accuracy: 92.49%\n",
      "• Recall: 81.69% (Ability to detect fraudulent transactions)\n",
      "• Precision: 95.08% (Accuracy in detecting fraud)\n",
      "• F1-Score: 87.88%\n",
      "\n",
      " Confusion Matrix Analysis:\n",
      "• True Negative (TN): 278 - Normal transactions correctly classified\n",
      "• False Positive (FP): 6 - Normal transactions classified as fraud\n",
      "• False Negative (FN): 26 - Fraud transactions classified as normal\n",
      "• True Positive (TP): 116 - Fraud transactions correctly classified\n",
      "\n",
      " Important Notes:\n",
      "• Fraud ratio in original dataset: 0.1727% (Highly Imbalanced)\n",
      "• Under-Sampling used to handle class imbalance\n",
      "• High Recall (81.69%) is crucial for fraud detection\n",
      "• Model needs threshold tuning for real-world deployment\n",
      "\n",
      " Recommendations for Improvement:\n",
      "1. Use advanced sampling techniques (SMOTE)\n",
      "2. Adjust classification threshold to optimize Recall/Precision\n",
      "3. Try other algorithms like Isolation Forest or XGBoost\n",
      "4. Use Cross-Validation for more robust evaluation\n",
      "\n",
      " Model Training Note:\n",
      "• Model is trained fresh each time (no .pkl file saved)\n",
      "• For production use, consider implementing model persistence\n",
      "\n",
      "======================================================================\n",
      "Model Training and Evaluation Completed Successfully!\n",
      "======================================================================\n"
     ]
    }
   ],
   "source": [
    "# Cell 14: Final Conclusion\n",
    "print(\"\\n\" + \"=\" * 70)\n",
    "print(\"Final Conclusion and Recommendations\")\n",
    "print(\"=\" * 70)\n",
    "\n",
    "print(f\"\\n Naive Bayes Model Performance:\")\n",
    "print(f\"• Overall Accuracy: {accuracy*100:.2f}%\")\n",
    "print(f\"• Recall: {recall*100:.2f}% (Ability to detect fraudulent transactions)\")\n",
    "print(f\"• Precision: {precision*100:.2f}% (Accuracy in detecting fraud)\")\n",
    "print(f\"• F1-Score: {f1*100:.2f}%\")\n",
    "\n",
    "print(f\"\\n Confusion Matrix Analysis:\")\n",
    "print(f\"• True Negative (TN): {cm[0,0]:,} - Normal transactions correctly classified\")\n",
    "print(f\"• False Positive (FP): {cm[0,1]:,} - Normal transactions classified as fraud\")\n",
    "print(f\"• False Negative (FN): {cm[1,0]:,} - Fraud transactions classified as normal\")\n",
    "print(f\"• True Positive (TP): {cm[1,1]:,} - Fraud transactions correctly classified\")\n",
    "\n",
    "print(f\"\\n Important Notes:\")\n",
    "print(f\"• Fraud ratio in original dataset: {fraud_ratio:.4f}% (Highly Imbalanced)\")\n",
    "print(f\"• Under-Sampling used to handle class imbalance\")\n",
    "print(f\"• High Recall ({recall*100:.2f}%) is crucial for fraud detection\")\n",
    "print(f\"• Model needs threshold tuning for real-world deployment\")\n",
    "\n",
    "print(f\"\\n Recommendations for Improvement:\")\n",
    "print(f\"1. Use advanced sampling techniques (SMOTE)\")\n",
    "print(f\"2. Adjust classification threshold to optimize Recall/Precision\")\n",
    "print(f\"3. Try other algorithms like Isolation Forest or XGBoost\")\n",
    "print(f\"4. Use Cross-Validation for more robust evaluation\")\n",
    "\n",
    "print(f\"\\n Model Training Note:\")\n",
    "print(\"• Model is trained fresh each time (no .pkl file saved)\")\n",
    "print(\"• For production use, consider implementing model persistence\")\n",
    "\n",
    "print(\"\\n\" + \"=\" * 70)\n",
    "print(\"Model Training and Evaluation Completed Successfully!\")\n",
    "print(\"=\" * 70)"
   ]
  }
 ],
 "metadata": {
  "kernelspec": {
   "display_name": "venv",
   "language": "python",
   "name": "python3"
  },
  "language_info": {
   "codemirror_mode": {
    "name": "ipython",
    "version": 3
   },
   "file_extension": ".py",
   "mimetype": "text/x-python",
   "name": "python",
   "nbconvert_exporter": "python",
   "pygments_lexer": "ipython3",
   "version": "3.12.7"
  }
 },
 "nbformat": 4,
 "nbformat_minor": 5
}
